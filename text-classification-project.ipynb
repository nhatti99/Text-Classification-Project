{
 "cells": [
  {
   "cell_type": "code",
   "execution_count": 1,
   "id": "27f090f4",
   "metadata": {
    "execution": {
     "iopub.execute_input": "2022-09-15T10:41:24.043122Z",
     "iopub.status.busy": "2022-09-15T10:41:24.042261Z",
     "iopub.status.idle": "2022-09-15T10:41:25.282944Z",
     "shell.execute_reply": "2022-09-15T10:41:25.281522Z"
    },
    "papermill": {
     "duration": 1.252957,
     "end_time": "2022-09-15T10:41:25.286028",
     "exception": false,
     "start_time": "2022-09-15T10:41:24.033071",
     "status": "completed"
    },
    "tags": []
   },
   "outputs": [],
   "source": [
    "import numpy as np\n",
    "import pandas as pd\n",
    "from sklearn.model_selection import train_test_split\n",
    "import joblib\n",
    "from sklearn.feature_extraction.text import CountVectorizer\n",
    "from sklearn.metrics import roc_auc_score, roc_curve, auc\n",
    "import matplotlib.pyplot as plt\n",
    "from sklearn import metrics\n",
    "\n",
    "from sklearn.neural_network import MLPClassifier\n",
    "from sklearn.metrics import confusion_matrix, classification_report"
   ]
  },
  {
   "cell_type": "code",
   "execution_count": 2,
   "id": "9a925a6d",
   "metadata": {
    "execution": {
     "iopub.execute_input": "2022-09-15T10:41:25.300878Z",
     "iopub.status.busy": "2022-09-15T10:41:25.300402Z",
     "iopub.status.idle": "2022-09-15T10:41:25.309109Z",
     "shell.execute_reply": "2022-09-15T10:41:25.307797Z"
    },
    "papermill": {
     "duration": 0.01906,
     "end_time": "2022-09-15T10:41:25.311360",
     "exception": false,
     "start_time": "2022-09-15T10:41:25.292300",
     "status": "completed"
    },
    "tags": []
   },
   "outputs": [],
   "source": [
    "data = {'Expressions':['He is good', 'I am feeling blessed', 'He achived his goal', 'She is good with technology', 'He is well known person', \n",
    "                       'He scored good marks', 'she has a beautiful family', 'he is proud of himself', 'Python is amazing',\n",
    "                       'Scala has very good time complexity', 'she cooks well', 'They play basketball very nicely', \n",
    "                       'He rides the bike perfectly', 'I love python', 'I know maths', 'We wake up early in the morning', \n",
    "                       'My brother speaks loudly', 'I have driven a car', 'We are trying to understand',\n",
    "                       'I am buying a new pair of shoes',\n",
    "                       'Java is tough', 'he knows how to deal with bad things', 'I am not flying to Europe', 'I do not know scala', \n",
    "                       'They are not from gulbarga', 'They do not know how to communicate', 'they are ruthless', \n",
    "                       'He does not have to commute to work', 'They do not prectice yoga', 'she will not be watching TV', \n",
    "                       'He has not been walking', 'We will not overcome the problems', 'She had not been working', \n",
    "                       'He had not been reading a book', 'He will not have received enough score by the summer', \n",
    "                       'They had not gone out when you called', 'The woman had not cried till the morning', \n",
    "                       'I had not returned to university', 'The rain will not have stopped by tomorrow', \n",
    "                       'I will not have been staying in London next summer'], \n",
    "        'Category':[1,1,1,1,1,1,1,1,1,1,1,1,1,1,1,1,1,1,1,1,0,0,0,0,0,0,0,0,0,0,0,0,0,0,0,0,0,0,0,0]}"
   ]
  },
  {
   "cell_type": "code",
   "execution_count": 3,
   "id": "9bb93936",
   "metadata": {
    "execution": {
     "iopub.execute_input": "2022-09-15T10:41:25.325274Z",
     "iopub.status.busy": "2022-09-15T10:41:25.324775Z",
     "iopub.status.idle": "2022-09-15T10:41:25.334468Z",
     "shell.execute_reply": "2022-09-15T10:41:25.333299Z"
    },
    "papermill": {
     "duration": 0.019355,
     "end_time": "2022-09-15T10:41:25.336596",
     "exception": false,
     "start_time": "2022-09-15T10:41:25.317241",
     "status": "completed"
    },
    "tags": []
   },
   "outputs": [],
   "source": [
    "df = pd.DataFrame(data)"
   ]
  },
  {
   "cell_type": "code",
   "execution_count": 4,
   "id": "522f03ed",
   "metadata": {
    "execution": {
     "iopub.execute_input": "2022-09-15T10:41:25.350777Z",
     "iopub.status.busy": "2022-09-15T10:41:25.350308Z",
     "iopub.status.idle": "2022-09-15T10:41:25.372902Z",
     "shell.execute_reply": "2022-09-15T10:41:25.372000Z"
    },
    "papermill": {
     "duration": 0.032687,
     "end_time": "2022-09-15T10:41:25.375393",
     "exception": false,
     "start_time": "2022-09-15T10:41:25.342706",
     "status": "completed"
    },
    "tags": []
   },
   "outputs": [
    {
     "data": {
      "text/html": [
       "<div>\n",
       "<style scoped>\n",
       "    .dataframe tbody tr th:only-of-type {\n",
       "        vertical-align: middle;\n",
       "    }\n",
       "\n",
       "    .dataframe tbody tr th {\n",
       "        vertical-align: top;\n",
       "    }\n",
       "\n",
       "    .dataframe thead th {\n",
       "        text-align: right;\n",
       "    }\n",
       "</style>\n",
       "<table border=\"1\" class=\"dataframe\">\n",
       "  <thead>\n",
       "    <tr style=\"text-align: right;\">\n",
       "      <th></th>\n",
       "      <th>Expressions</th>\n",
       "      <th>Category</th>\n",
       "    </tr>\n",
       "  </thead>\n",
       "  <tbody>\n",
       "    <tr>\n",
       "      <th>0</th>\n",
       "      <td>He is good</td>\n",
       "      <td>1</td>\n",
       "    </tr>\n",
       "    <tr>\n",
       "      <th>1</th>\n",
       "      <td>I am feeling blessed</td>\n",
       "      <td>1</td>\n",
       "    </tr>\n",
       "    <tr>\n",
       "      <th>2</th>\n",
       "      <td>He achived his goal</td>\n",
       "      <td>1</td>\n",
       "    </tr>\n",
       "    <tr>\n",
       "      <th>3</th>\n",
       "      <td>She is good with technology</td>\n",
       "      <td>1</td>\n",
       "    </tr>\n",
       "    <tr>\n",
       "      <th>4</th>\n",
       "      <td>He is well known person</td>\n",
       "      <td>1</td>\n",
       "    </tr>\n",
       "    <tr>\n",
       "      <th>5</th>\n",
       "      <td>He scored good marks</td>\n",
       "      <td>1</td>\n",
       "    </tr>\n",
       "    <tr>\n",
       "      <th>6</th>\n",
       "      <td>she has a beautiful family</td>\n",
       "      <td>1</td>\n",
       "    </tr>\n",
       "    <tr>\n",
       "      <th>7</th>\n",
       "      <td>he is proud of himself</td>\n",
       "      <td>1</td>\n",
       "    </tr>\n",
       "    <tr>\n",
       "      <th>8</th>\n",
       "      <td>Python is amazing</td>\n",
       "      <td>1</td>\n",
       "    </tr>\n",
       "    <tr>\n",
       "      <th>9</th>\n",
       "      <td>Scala has very good time complexity</td>\n",
       "      <td>1</td>\n",
       "    </tr>\n",
       "    <tr>\n",
       "      <th>10</th>\n",
       "      <td>she cooks well</td>\n",
       "      <td>1</td>\n",
       "    </tr>\n",
       "    <tr>\n",
       "      <th>11</th>\n",
       "      <td>They play basketball very nicely</td>\n",
       "      <td>1</td>\n",
       "    </tr>\n",
       "    <tr>\n",
       "      <th>12</th>\n",
       "      <td>He rides the bike perfectly</td>\n",
       "      <td>1</td>\n",
       "    </tr>\n",
       "    <tr>\n",
       "      <th>13</th>\n",
       "      <td>I love python</td>\n",
       "      <td>1</td>\n",
       "    </tr>\n",
       "    <tr>\n",
       "      <th>14</th>\n",
       "      <td>I know maths</td>\n",
       "      <td>1</td>\n",
       "    </tr>\n",
       "    <tr>\n",
       "      <th>15</th>\n",
       "      <td>We wake up early in the morning</td>\n",
       "      <td>1</td>\n",
       "    </tr>\n",
       "    <tr>\n",
       "      <th>16</th>\n",
       "      <td>My brother speaks loudly</td>\n",
       "      <td>1</td>\n",
       "    </tr>\n",
       "    <tr>\n",
       "      <th>17</th>\n",
       "      <td>I have driven a car</td>\n",
       "      <td>1</td>\n",
       "    </tr>\n",
       "    <tr>\n",
       "      <th>18</th>\n",
       "      <td>We are trying to understand</td>\n",
       "      <td>1</td>\n",
       "    </tr>\n",
       "    <tr>\n",
       "      <th>19</th>\n",
       "      <td>I am buying a new pair of shoes</td>\n",
       "      <td>1</td>\n",
       "    </tr>\n",
       "    <tr>\n",
       "      <th>20</th>\n",
       "      <td>Java is tough</td>\n",
       "      <td>0</td>\n",
       "    </tr>\n",
       "    <tr>\n",
       "      <th>21</th>\n",
       "      <td>he knows how to deal with bad things</td>\n",
       "      <td>0</td>\n",
       "    </tr>\n",
       "    <tr>\n",
       "      <th>22</th>\n",
       "      <td>I am not flying to Europe</td>\n",
       "      <td>0</td>\n",
       "    </tr>\n",
       "    <tr>\n",
       "      <th>23</th>\n",
       "      <td>I do not know scala</td>\n",
       "      <td>0</td>\n",
       "    </tr>\n",
       "    <tr>\n",
       "      <th>24</th>\n",
       "      <td>They are not from gulbarga</td>\n",
       "      <td>0</td>\n",
       "    </tr>\n",
       "    <tr>\n",
       "      <th>25</th>\n",
       "      <td>They do not know how to communicate</td>\n",
       "      <td>0</td>\n",
       "    </tr>\n",
       "    <tr>\n",
       "      <th>26</th>\n",
       "      <td>they are ruthless</td>\n",
       "      <td>0</td>\n",
       "    </tr>\n",
       "    <tr>\n",
       "      <th>27</th>\n",
       "      <td>He does not have to commute to work</td>\n",
       "      <td>0</td>\n",
       "    </tr>\n",
       "    <tr>\n",
       "      <th>28</th>\n",
       "      <td>They do not prectice yoga</td>\n",
       "      <td>0</td>\n",
       "    </tr>\n",
       "    <tr>\n",
       "      <th>29</th>\n",
       "      <td>she will not be watching TV</td>\n",
       "      <td>0</td>\n",
       "    </tr>\n",
       "    <tr>\n",
       "      <th>30</th>\n",
       "      <td>He has not been walking</td>\n",
       "      <td>0</td>\n",
       "    </tr>\n",
       "    <tr>\n",
       "      <th>31</th>\n",
       "      <td>We will not overcome the problems</td>\n",
       "      <td>0</td>\n",
       "    </tr>\n",
       "    <tr>\n",
       "      <th>32</th>\n",
       "      <td>She had not been working</td>\n",
       "      <td>0</td>\n",
       "    </tr>\n",
       "    <tr>\n",
       "      <th>33</th>\n",
       "      <td>He had not been reading a book</td>\n",
       "      <td>0</td>\n",
       "    </tr>\n",
       "    <tr>\n",
       "      <th>34</th>\n",
       "      <td>He will not have received enough score by the ...</td>\n",
       "      <td>0</td>\n",
       "    </tr>\n",
       "    <tr>\n",
       "      <th>35</th>\n",
       "      <td>They had not gone out when you called</td>\n",
       "      <td>0</td>\n",
       "    </tr>\n",
       "    <tr>\n",
       "      <th>36</th>\n",
       "      <td>The woman had not cried till the morning</td>\n",
       "      <td>0</td>\n",
       "    </tr>\n",
       "    <tr>\n",
       "      <th>37</th>\n",
       "      <td>I had not returned to university</td>\n",
       "      <td>0</td>\n",
       "    </tr>\n",
       "    <tr>\n",
       "      <th>38</th>\n",
       "      <td>The rain will not have stopped by tomorrow</td>\n",
       "      <td>0</td>\n",
       "    </tr>\n",
       "    <tr>\n",
       "      <th>39</th>\n",
       "      <td>I will not have been staying in London next su...</td>\n",
       "      <td>0</td>\n",
       "    </tr>\n",
       "  </tbody>\n",
       "</table>\n",
       "</div>"
      ],
      "text/plain": [
       "                                          Expressions  Category\n",
       "0                                          He is good         1\n",
       "1                                I am feeling blessed         1\n",
       "2                                 He achived his goal         1\n",
       "3                         She is good with technology         1\n",
       "4                             He is well known person         1\n",
       "5                                He scored good marks         1\n",
       "6                          she has a beautiful family         1\n",
       "7                              he is proud of himself         1\n",
       "8                                   Python is amazing         1\n",
       "9                 Scala has very good time complexity         1\n",
       "10                                     she cooks well         1\n",
       "11                   They play basketball very nicely         1\n",
       "12                        He rides the bike perfectly         1\n",
       "13                                      I love python         1\n",
       "14                                       I know maths         1\n",
       "15                    We wake up early in the morning         1\n",
       "16                           My brother speaks loudly         1\n",
       "17                                I have driven a car         1\n",
       "18                        We are trying to understand         1\n",
       "19                    I am buying a new pair of shoes         1\n",
       "20                                      Java is tough         0\n",
       "21               he knows how to deal with bad things         0\n",
       "22                          I am not flying to Europe         0\n",
       "23                                I do not know scala         0\n",
       "24                         They are not from gulbarga         0\n",
       "25                They do not know how to communicate         0\n",
       "26                                  they are ruthless         0\n",
       "27                He does not have to commute to work         0\n",
       "28                          They do not prectice yoga         0\n",
       "29                        she will not be watching TV         0\n",
       "30                            He has not been walking         0\n",
       "31                  We will not overcome the problems         0\n",
       "32                           She had not been working         0\n",
       "33                     He had not been reading a book         0\n",
       "34  He will not have received enough score by the ...         0\n",
       "35              They had not gone out when you called         0\n",
       "36           The woman had not cried till the morning         0\n",
       "37                   I had not returned to university         0\n",
       "38         The rain will not have stopped by tomorrow         0\n",
       "39  I will not have been staying in London next su...         0"
      ]
     },
     "execution_count": 4,
     "metadata": {},
     "output_type": "execute_result"
    }
   ],
   "source": [
    "df"
   ]
  },
  {
   "cell_type": "code",
   "execution_count": 5,
   "id": "9adca342",
   "metadata": {
    "execution": {
     "iopub.execute_input": "2022-09-15T10:41:25.390225Z",
     "iopub.status.busy": "2022-09-15T10:41:25.389696Z",
     "iopub.status.idle": "2022-09-15T10:41:25.396118Z",
     "shell.execute_reply": "2022-09-15T10:41:25.395341Z"
    },
    "papermill": {
     "duration": 0.016436,
     "end_time": "2022-09-15T10:41:25.398101",
     "exception": false,
     "start_time": "2022-09-15T10:41:25.381665",
     "status": "completed"
    },
    "tags": []
   },
   "outputs": [
    {
     "data": {
      "text/plain": [
       "(40, 2)"
      ]
     },
     "execution_count": 5,
     "metadata": {},
     "output_type": "execute_result"
    }
   ],
   "source": [
    "df.shape"
   ]
  },
  {
   "cell_type": "code",
   "execution_count": 6,
   "id": "577ab858",
   "metadata": {
    "execution": {
     "iopub.execute_input": "2022-09-15T10:41:25.412748Z",
     "iopub.status.busy": "2022-09-15T10:41:25.412262Z",
     "iopub.status.idle": "2022-09-15T10:41:25.440986Z",
     "shell.execute_reply": "2022-09-15T10:41:25.439045Z"
    },
    "papermill": {
     "duration": 0.039316,
     "end_time": "2022-09-15T10:41:25.443796",
     "exception": false,
     "start_time": "2022-09-15T10:41:25.404480",
     "status": "completed"
    },
    "tags": []
   },
   "outputs": [
    {
     "name": "stdout",
     "output_type": "stream",
     "text": [
      "<class 'pandas.core.frame.DataFrame'>\n",
      "RangeIndex: 40 entries, 0 to 39\n",
      "Data columns (total 2 columns):\n",
      " #   Column       Non-Null Count  Dtype \n",
      "---  ------       --------------  ----- \n",
      " 0   Expressions  40 non-null     object\n",
      " 1   Category     40 non-null     int64 \n",
      "dtypes: int64(1), object(1)\n",
      "memory usage: 768.0+ bytes\n"
     ]
    }
   ],
   "source": [
    "df.info()"
   ]
  },
  {
   "cell_type": "code",
   "execution_count": 7,
   "id": "ef9f74f0",
   "metadata": {
    "execution": {
     "iopub.execute_input": "2022-09-15T10:41:25.459037Z",
     "iopub.status.busy": "2022-09-15T10:41:25.458559Z",
     "iopub.status.idle": "2022-09-15T10:41:25.466124Z",
     "shell.execute_reply": "2022-09-15T10:41:25.464692Z"
    },
    "papermill": {
     "duration": 0.018063,
     "end_time": "2022-09-15T10:41:25.468419",
     "exception": false,
     "start_time": "2022-09-15T10:41:25.450356",
     "status": "completed"
    },
    "tags": []
   },
   "outputs": [],
   "source": [
    "df['Expressions'] = df['Expressions'].str.strip().str.lower()"
   ]
  },
  {
   "cell_type": "code",
   "execution_count": 8,
   "id": "4e0f4f93",
   "metadata": {
    "execution": {
     "iopub.execute_input": "2022-09-15T10:41:25.483681Z",
     "iopub.status.busy": "2022-09-15T10:41:25.483190Z",
     "iopub.status.idle": "2022-09-15T10:41:25.496950Z",
     "shell.execute_reply": "2022-09-15T10:41:25.495736Z"
    },
    "papermill": {
     "duration": 0.024483,
     "end_time": "2022-09-15T10:41:25.499337",
     "exception": false,
     "start_time": "2022-09-15T10:41:25.474854",
     "status": "completed"
    },
    "tags": []
   },
   "outputs": [
    {
     "data": {
      "text/html": [
       "<div>\n",
       "<style scoped>\n",
       "    .dataframe tbody tr th:only-of-type {\n",
       "        vertical-align: middle;\n",
       "    }\n",
       "\n",
       "    .dataframe tbody tr th {\n",
       "        vertical-align: top;\n",
       "    }\n",
       "\n",
       "    .dataframe thead th {\n",
       "        text-align: right;\n",
       "    }\n",
       "</style>\n",
       "<table border=\"1\" class=\"dataframe\">\n",
       "  <thead>\n",
       "    <tr style=\"text-align: right;\">\n",
       "      <th></th>\n",
       "      <th>Expressions</th>\n",
       "      <th>Category</th>\n",
       "    </tr>\n",
       "  </thead>\n",
       "  <tbody>\n",
       "    <tr>\n",
       "      <th>0</th>\n",
       "      <td>he is good</td>\n",
       "      <td>1</td>\n",
       "    </tr>\n",
       "    <tr>\n",
       "      <th>1</th>\n",
       "      <td>i am feeling blessed</td>\n",
       "      <td>1</td>\n",
       "    </tr>\n",
       "    <tr>\n",
       "      <th>2</th>\n",
       "      <td>he achived his goal</td>\n",
       "      <td>1</td>\n",
       "    </tr>\n",
       "    <tr>\n",
       "      <th>3</th>\n",
       "      <td>she is good with technology</td>\n",
       "      <td>1</td>\n",
       "    </tr>\n",
       "    <tr>\n",
       "      <th>4</th>\n",
       "      <td>he is well known person</td>\n",
       "      <td>1</td>\n",
       "    </tr>\n",
       "    <tr>\n",
       "      <th>5</th>\n",
       "      <td>he scored good marks</td>\n",
       "      <td>1</td>\n",
       "    </tr>\n",
       "    <tr>\n",
       "      <th>6</th>\n",
       "      <td>she has a beautiful family</td>\n",
       "      <td>1</td>\n",
       "    </tr>\n",
       "    <tr>\n",
       "      <th>7</th>\n",
       "      <td>he is proud of himself</td>\n",
       "      <td>1</td>\n",
       "    </tr>\n",
       "    <tr>\n",
       "      <th>8</th>\n",
       "      <td>python is amazing</td>\n",
       "      <td>1</td>\n",
       "    </tr>\n",
       "    <tr>\n",
       "      <th>9</th>\n",
       "      <td>scala has very good time complexity</td>\n",
       "      <td>1</td>\n",
       "    </tr>\n",
       "    <tr>\n",
       "      <th>10</th>\n",
       "      <td>she cooks well</td>\n",
       "      <td>1</td>\n",
       "    </tr>\n",
       "    <tr>\n",
       "      <th>11</th>\n",
       "      <td>they play basketball very nicely</td>\n",
       "      <td>1</td>\n",
       "    </tr>\n",
       "    <tr>\n",
       "      <th>12</th>\n",
       "      <td>he rides the bike perfectly</td>\n",
       "      <td>1</td>\n",
       "    </tr>\n",
       "    <tr>\n",
       "      <th>13</th>\n",
       "      <td>i love python</td>\n",
       "      <td>1</td>\n",
       "    </tr>\n",
       "    <tr>\n",
       "      <th>14</th>\n",
       "      <td>i know maths</td>\n",
       "      <td>1</td>\n",
       "    </tr>\n",
       "    <tr>\n",
       "      <th>15</th>\n",
       "      <td>we wake up early in the morning</td>\n",
       "      <td>1</td>\n",
       "    </tr>\n",
       "    <tr>\n",
       "      <th>16</th>\n",
       "      <td>my brother speaks loudly</td>\n",
       "      <td>1</td>\n",
       "    </tr>\n",
       "    <tr>\n",
       "      <th>17</th>\n",
       "      <td>i have driven a car</td>\n",
       "      <td>1</td>\n",
       "    </tr>\n",
       "    <tr>\n",
       "      <th>18</th>\n",
       "      <td>we are trying to understand</td>\n",
       "      <td>1</td>\n",
       "    </tr>\n",
       "    <tr>\n",
       "      <th>19</th>\n",
       "      <td>i am buying a new pair of shoes</td>\n",
       "      <td>1</td>\n",
       "    </tr>\n",
       "    <tr>\n",
       "      <th>20</th>\n",
       "      <td>java is tough</td>\n",
       "      <td>0</td>\n",
       "    </tr>\n",
       "    <tr>\n",
       "      <th>21</th>\n",
       "      <td>he knows how to deal with bad things</td>\n",
       "      <td>0</td>\n",
       "    </tr>\n",
       "    <tr>\n",
       "      <th>22</th>\n",
       "      <td>i am not flying to europe</td>\n",
       "      <td>0</td>\n",
       "    </tr>\n",
       "    <tr>\n",
       "      <th>23</th>\n",
       "      <td>i do not know scala</td>\n",
       "      <td>0</td>\n",
       "    </tr>\n",
       "    <tr>\n",
       "      <th>24</th>\n",
       "      <td>they are not from gulbarga</td>\n",
       "      <td>0</td>\n",
       "    </tr>\n",
       "    <tr>\n",
       "      <th>25</th>\n",
       "      <td>they do not know how to communicate</td>\n",
       "      <td>0</td>\n",
       "    </tr>\n",
       "    <tr>\n",
       "      <th>26</th>\n",
       "      <td>they are ruthless</td>\n",
       "      <td>0</td>\n",
       "    </tr>\n",
       "    <tr>\n",
       "      <th>27</th>\n",
       "      <td>he does not have to commute to work</td>\n",
       "      <td>0</td>\n",
       "    </tr>\n",
       "    <tr>\n",
       "      <th>28</th>\n",
       "      <td>they do not prectice yoga</td>\n",
       "      <td>0</td>\n",
       "    </tr>\n",
       "    <tr>\n",
       "      <th>29</th>\n",
       "      <td>she will not be watching tv</td>\n",
       "      <td>0</td>\n",
       "    </tr>\n",
       "    <tr>\n",
       "      <th>30</th>\n",
       "      <td>he has not been walking</td>\n",
       "      <td>0</td>\n",
       "    </tr>\n",
       "    <tr>\n",
       "      <th>31</th>\n",
       "      <td>we will not overcome the problems</td>\n",
       "      <td>0</td>\n",
       "    </tr>\n",
       "    <tr>\n",
       "      <th>32</th>\n",
       "      <td>she had not been working</td>\n",
       "      <td>0</td>\n",
       "    </tr>\n",
       "    <tr>\n",
       "      <th>33</th>\n",
       "      <td>he had not been reading a book</td>\n",
       "      <td>0</td>\n",
       "    </tr>\n",
       "    <tr>\n",
       "      <th>34</th>\n",
       "      <td>he will not have received enough score by the ...</td>\n",
       "      <td>0</td>\n",
       "    </tr>\n",
       "    <tr>\n",
       "      <th>35</th>\n",
       "      <td>they had not gone out when you called</td>\n",
       "      <td>0</td>\n",
       "    </tr>\n",
       "    <tr>\n",
       "      <th>36</th>\n",
       "      <td>the woman had not cried till the morning</td>\n",
       "      <td>0</td>\n",
       "    </tr>\n",
       "    <tr>\n",
       "      <th>37</th>\n",
       "      <td>i had not returned to university</td>\n",
       "      <td>0</td>\n",
       "    </tr>\n",
       "    <tr>\n",
       "      <th>38</th>\n",
       "      <td>the rain will not have stopped by tomorrow</td>\n",
       "      <td>0</td>\n",
       "    </tr>\n",
       "    <tr>\n",
       "      <th>39</th>\n",
       "      <td>i will not have been staying in london next su...</td>\n",
       "      <td>0</td>\n",
       "    </tr>\n",
       "  </tbody>\n",
       "</table>\n",
       "</div>"
      ],
      "text/plain": [
       "                                          Expressions  Category\n",
       "0                                          he is good         1\n",
       "1                                i am feeling blessed         1\n",
       "2                                 he achived his goal         1\n",
       "3                         she is good with technology         1\n",
       "4                             he is well known person         1\n",
       "5                                he scored good marks         1\n",
       "6                          she has a beautiful family         1\n",
       "7                              he is proud of himself         1\n",
       "8                                   python is amazing         1\n",
       "9                 scala has very good time complexity         1\n",
       "10                                     she cooks well         1\n",
       "11                   they play basketball very nicely         1\n",
       "12                        he rides the bike perfectly         1\n",
       "13                                      i love python         1\n",
       "14                                       i know maths         1\n",
       "15                    we wake up early in the morning         1\n",
       "16                           my brother speaks loudly         1\n",
       "17                                i have driven a car         1\n",
       "18                        we are trying to understand         1\n",
       "19                    i am buying a new pair of shoes         1\n",
       "20                                      java is tough         0\n",
       "21               he knows how to deal with bad things         0\n",
       "22                          i am not flying to europe         0\n",
       "23                                i do not know scala         0\n",
       "24                         they are not from gulbarga         0\n",
       "25                they do not know how to communicate         0\n",
       "26                                  they are ruthless         0\n",
       "27                he does not have to commute to work         0\n",
       "28                          they do not prectice yoga         0\n",
       "29                        she will not be watching tv         0\n",
       "30                            he has not been walking         0\n",
       "31                  we will not overcome the problems         0\n",
       "32                           she had not been working         0\n",
       "33                     he had not been reading a book         0\n",
       "34  he will not have received enough score by the ...         0\n",
       "35              they had not gone out when you called         0\n",
       "36           the woman had not cried till the morning         0\n",
       "37                   i had not returned to university         0\n",
       "38         the rain will not have stopped by tomorrow         0\n",
       "39  i will not have been staying in london next su...         0"
      ]
     },
     "execution_count": 8,
     "metadata": {},
     "output_type": "execute_result"
    }
   ],
   "source": [
    "df"
   ]
  },
  {
   "cell_type": "code",
   "execution_count": 9,
   "id": "22183419",
   "metadata": {
    "execution": {
     "iopub.execute_input": "2022-09-15T10:41:25.514939Z",
     "iopub.status.busy": "2022-09-15T10:41:25.514460Z",
     "iopub.status.idle": "2022-09-15T10:41:25.520824Z",
     "shell.execute_reply": "2022-09-15T10:41:25.519575Z"
    },
    "papermill": {
     "duration": 0.016843,
     "end_time": "2022-09-15T10:41:25.523059",
     "exception": false,
     "start_time": "2022-09-15T10:41:25.506216",
     "status": "completed"
    },
    "tags": []
   },
   "outputs": [],
   "source": [
    "x = df['Expressions']\n",
    "y = df['Category']"
   ]
  },
  {
   "cell_type": "code",
   "execution_count": 10,
   "id": "cddcd164",
   "metadata": {
    "execution": {
     "iopub.execute_input": "2022-09-15T10:41:25.538788Z",
     "iopub.status.busy": "2022-09-15T10:41:25.538287Z",
     "iopub.status.idle": "2022-09-15T10:41:25.548315Z",
     "shell.execute_reply": "2022-09-15T10:41:25.547386Z"
    },
    "papermill": {
     "duration": 0.02051,
     "end_time": "2022-09-15T10:41:25.550457",
     "exception": false,
     "start_time": "2022-09-15T10:41:25.529947",
     "status": "completed"
    },
    "tags": []
   },
   "outputs": [],
   "source": [
    "x, x_test, y, y_test = train_test_split(x, y, stratify=y, test_size=0.30, random_state=3)"
   ]
  },
  {
   "cell_type": "code",
   "execution_count": 11,
   "id": "5045835a",
   "metadata": {
    "execution": {
     "iopub.execute_input": "2022-09-15T10:41:25.566847Z",
     "iopub.status.busy": "2022-09-15T10:41:25.566323Z",
     "iopub.status.idle": "2022-09-15T10:41:25.571446Z",
     "shell.execute_reply": "2022-09-15T10:41:25.570460Z"
    },
    "papermill": {
     "duration": 0.016152,
     "end_time": "2022-09-15T10:41:25.573520",
     "exception": false,
     "start_time": "2022-09-15T10:41:25.557368",
     "status": "completed"
    },
    "tags": []
   },
   "outputs": [],
   "source": [
    "vec = CountVectorizer(stop_words='english')"
   ]
  },
  {
   "cell_type": "code",
   "execution_count": 12,
   "id": "e96aecea",
   "metadata": {
    "execution": {
     "iopub.execute_input": "2022-09-15T10:41:25.590218Z",
     "iopub.status.busy": "2022-09-15T10:41:25.588986Z",
     "iopub.status.idle": "2022-09-15T10:41:25.600757Z",
     "shell.execute_reply": "2022-09-15T10:41:25.599550Z"
    },
    "papermill": {
     "duration": 0.023334,
     "end_time": "2022-09-15T10:41:25.603763",
     "exception": false,
     "start_time": "2022-09-15T10:41:25.580429",
     "status": "completed"
    },
    "tags": []
   },
   "outputs": [],
   "source": [
    "x = vec.fit_transform(x).toarray()"
   ]
  },
  {
   "cell_type": "code",
   "execution_count": 13,
   "id": "4b7cadb8",
   "metadata": {
    "execution": {
     "iopub.execute_input": "2022-09-15T10:41:25.619894Z",
     "iopub.status.busy": "2022-09-15T10:41:25.619502Z",
     "iopub.status.idle": "2022-09-15T10:41:25.626084Z",
     "shell.execute_reply": "2022-09-15T10:41:25.624947Z"
    },
    "papermill": {
     "duration": 0.017702,
     "end_time": "2022-09-15T10:41:25.628742",
     "exception": false,
     "start_time": "2022-09-15T10:41:25.611040",
     "status": "completed"
    },
    "tags": []
   },
   "outputs": [],
   "source": [
    "x_test = vec.transform(x_test).toarray()"
   ]
  },
  {
   "cell_type": "code",
   "execution_count": 14,
   "id": "8376e040",
   "metadata": {
    "execution": {
     "iopub.execute_input": "2022-09-15T10:41:25.647220Z",
     "iopub.status.busy": "2022-09-15T10:41:25.646738Z",
     "iopub.status.idle": "2022-09-15T10:41:25.654648Z",
     "shell.execute_reply": "2022-09-15T10:41:25.653378Z"
    },
    "papermill": {
     "duration": 0.020588,
     "end_time": "2022-09-15T10:41:25.657070",
     "exception": false,
     "start_time": "2022-09-15T10:41:25.636482",
     "status": "completed"
    },
    "tags": []
   },
   "outputs": [
    {
     "data": {
      "text/plain": [
       "array([[0, 0, 0, ..., 0, 0, 0],\n",
       "       [0, 0, 0, ..., 0, 0, 0],\n",
       "       [0, 0, 0, ..., 0, 0, 0],\n",
       "       ...,\n",
       "       [0, 0, 0, ..., 0, 0, 0],\n",
       "       [0, 0, 0, ..., 0, 0, 0],\n",
       "       [0, 0, 0, ..., 0, 0, 0]])"
      ]
     },
     "execution_count": 14,
     "metadata": {},
     "output_type": "execute_result"
    }
   ],
   "source": [
    "x"
   ]
  },
  {
   "cell_type": "code",
   "execution_count": 15,
   "id": "108fab0e",
   "metadata": {
    "execution": {
     "iopub.execute_input": "2022-09-15T10:41:25.674082Z",
     "iopub.status.busy": "2022-09-15T10:41:25.673700Z",
     "iopub.status.idle": "2022-09-15T10:41:25.680301Z",
     "shell.execute_reply": "2022-09-15T10:41:25.679535Z"
    },
    "papermill": {
     "duration": 0.018779,
     "end_time": "2022-09-15T10:41:25.683225",
     "exception": false,
     "start_time": "2022-09-15T10:41:25.664446",
     "status": "completed"
    },
    "tags": []
   },
   "outputs": [
    {
     "data": {
      "text/plain": [
       "26    0\n",
       "13    1\n",
       "38    0\n",
       "19    1\n",
       "24    0\n",
       "37    0\n",
       "21    0\n",
       "8     1\n",
       "39    0\n",
       "29    0\n",
       "31    0\n",
       "1     1\n",
       "10    1\n",
       "27    0\n",
       "3     1\n",
       "35    0\n",
       "5     1\n",
       "32    0\n",
       "0     1\n",
       "34    0\n",
       "4     1\n",
       "11    1\n",
       "6     1\n",
       "16    1\n",
       "36    0\n",
       "7     1\n",
       "9     1\n",
       "22    0\n",
       "Name: Category, dtype: int64"
      ]
     },
     "execution_count": 15,
     "metadata": {},
     "output_type": "execute_result"
    }
   ],
   "source": [
    "y"
   ]
  },
  {
   "cell_type": "code",
   "execution_count": 16,
   "id": "15c8420c",
   "metadata": {
    "execution": {
     "iopub.execute_input": "2022-09-15T10:41:25.700276Z",
     "iopub.status.busy": "2022-09-15T10:41:25.699685Z",
     "iopub.status.idle": "2022-09-15T10:41:25.703549Z",
     "shell.execute_reply": "2022-09-15T10:41:25.702800Z"
    },
    "papermill": {
     "duration": 0.015027,
     "end_time": "2022-09-15T10:41:25.705745",
     "exception": false,
     "start_time": "2022-09-15T10:41:25.690718",
     "status": "completed"
    },
    "tags": []
   },
   "outputs": [],
   "source": [
    "from sklearn.neural_network import MLPClassifier"
   ]
  },
  {
   "cell_type": "code",
   "execution_count": 17,
   "id": "722d8831",
   "metadata": {
    "execution": {
     "iopub.execute_input": "2022-09-15T10:41:25.722815Z",
     "iopub.status.busy": "2022-09-15T10:41:25.722245Z",
     "iopub.status.idle": "2022-09-15T10:41:25.863230Z",
     "shell.execute_reply": "2022-09-15T10:41:25.862430Z"
    },
    "papermill": {
     "duration": 0.152082,
     "end_time": "2022-09-15T10:41:25.865426",
     "exception": false,
     "start_time": "2022-09-15T10:41:25.713344",
     "status": "completed"
    },
    "tags": []
   },
   "outputs": [
    {
     "data": {
      "text/plain": [
       "MLPClassifier(hidden_layer_sizes=(50, 50))"
      ]
     },
     "execution_count": 17,
     "metadata": {},
     "output_type": "execute_result"
    }
   ],
   "source": [
    "mlp = MLPClassifier(hidden_layer_sizes=(50, 50))\n",
    "mlp.fit(x, y)"
   ]
  },
  {
   "cell_type": "code",
   "execution_count": 18,
   "id": "599b7578",
   "metadata": {
    "execution": {
     "iopub.execute_input": "2022-09-15T10:41:25.882301Z",
     "iopub.status.busy": "2022-09-15T10:41:25.881861Z",
     "iopub.status.idle": "2022-09-15T10:41:25.886385Z",
     "shell.execute_reply": "2022-09-15T10:41:25.885621Z"
    },
    "papermill": {
     "duration": 0.015737,
     "end_time": "2022-09-15T10:41:25.888590",
     "exception": false,
     "start_time": "2022-09-15T10:41:25.872853",
     "status": "completed"
    },
    "tags": []
   },
   "outputs": [],
   "source": [
    "predictions = mlp.predict(x_test)"
   ]
  },
  {
   "cell_type": "code",
   "execution_count": 19,
   "id": "83397acb",
   "metadata": {
    "execution": {
     "iopub.execute_input": "2022-09-15T10:41:25.908132Z",
     "iopub.status.busy": "2022-09-15T10:41:25.906752Z",
     "iopub.status.idle": "2022-09-15T10:41:25.913714Z",
     "shell.execute_reply": "2022-09-15T10:41:25.912732Z"
    },
    "papermill": {
     "duration": 0.018541,
     "end_time": "2022-09-15T10:41:25.916110",
     "exception": false,
     "start_time": "2022-09-15T10:41:25.897569",
     "status": "completed"
    },
    "tags": []
   },
   "outputs": [
    {
     "data": {
      "text/plain": [
       "array([0, 1, 0, 0, 0, 0, 0, 0, 0, 0, 0, 0])"
      ]
     },
     "execution_count": 19,
     "metadata": {},
     "output_type": "execute_result"
    }
   ],
   "source": [
    "predictions"
   ]
  },
  {
   "cell_type": "code",
   "execution_count": 20,
   "id": "138ebf6d",
   "metadata": {
    "execution": {
     "iopub.execute_input": "2022-09-15T10:41:25.933850Z",
     "iopub.status.busy": "2022-09-15T10:41:25.933252Z",
     "iopub.status.idle": "2022-09-15T10:41:25.937695Z",
     "shell.execute_reply": "2022-09-15T10:41:25.936762Z"
    },
    "papermill": {
     "duration": 0.016157,
     "end_time": "2022-09-15T10:41:25.939939",
     "exception": false,
     "start_time": "2022-09-15T10:41:25.923782",
     "status": "completed"
    },
    "tags": []
   },
   "outputs": [],
   "source": [
    "from sklearn.metrics import confusion_matrix, classification_report"
   ]
  },
  {
   "cell_type": "code",
   "execution_count": 21,
   "id": "b46a38be",
   "metadata": {
    "execution": {
     "iopub.execute_input": "2022-09-15T10:41:25.962378Z",
     "iopub.status.busy": "2022-09-15T10:41:25.961660Z",
     "iopub.status.idle": "2022-09-15T10:41:25.969791Z",
     "shell.execute_reply": "2022-09-15T10:41:25.968468Z"
    },
    "papermill": {
     "duration": 0.022937,
     "end_time": "2022-09-15T10:41:25.972136",
     "exception": false,
     "start_time": "2022-09-15T10:41:25.949199",
     "status": "completed"
    },
    "tags": []
   },
   "outputs": [
    {
     "name": "stdout",
     "output_type": "stream",
     "text": [
      "[[5 1]\n",
      " [6 0]]\n"
     ]
    }
   ],
   "source": [
    "print(confusion_matrix(y_test, predictions))"
   ]
  },
  {
   "cell_type": "code",
   "execution_count": 22,
   "id": "6dda3689",
   "metadata": {
    "execution": {
     "iopub.execute_input": "2022-09-15T10:41:25.990709Z",
     "iopub.status.busy": "2022-09-15T10:41:25.990246Z",
     "iopub.status.idle": "2022-09-15T10:41:26.001890Z",
     "shell.execute_reply": "2022-09-15T10:41:26.000347Z"
    },
    "papermill": {
     "duration": 0.024177,
     "end_time": "2022-09-15T10:41:26.004685",
     "exception": false,
     "start_time": "2022-09-15T10:41:25.980508",
     "status": "completed"
    },
    "tags": []
   },
   "outputs": [
    {
     "name": "stdout",
     "output_type": "stream",
     "text": [
      "              precision    recall  f1-score   support\n",
      "\n",
      "           0       0.45      0.83      0.59         6\n",
      "           1       0.00      0.00      0.00         6\n",
      "\n",
      "    accuracy                           0.42        12\n",
      "   macro avg       0.23      0.42      0.29        12\n",
      "weighted avg       0.23      0.42      0.29        12\n",
      "\n"
     ]
    }
   ],
   "source": [
    "print(classification_report(y_test, predictions))"
   ]
  },
  {
   "cell_type": "code",
   "execution_count": null,
   "id": "8a383b83",
   "metadata": {
    "papermill": {
     "duration": 0.007698,
     "end_time": "2022-09-15T10:41:26.020562",
     "exception": false,
     "start_time": "2022-09-15T10:41:26.012864",
     "status": "completed"
    },
    "tags": []
   },
   "outputs": [],
   "source": []
  }
 ],
 "metadata": {
  "kernelspec": {
   "display_name": "Python 3",
   "language": "python",
   "name": "python3"
  },
  "language_info": {
   "codemirror_mode": {
    "name": "ipython",
    "version": 3
   },
   "file_extension": ".py",
   "mimetype": "text/x-python",
   "name": "python",
   "nbconvert_exporter": "python",
   "pygments_lexer": "ipython3",
   "version": "3.7.12"
  },
  "papermill": {
   "default_parameters": {},
   "duration": 12.344601,
   "end_time": "2022-09-15T10:41:26.953375",
   "environment_variables": {},
   "exception": null,
   "input_path": "__notebook__.ipynb",
   "output_path": "__notebook__.ipynb",
   "parameters": {},
   "start_time": "2022-09-15T10:41:14.608774",
   "version": "2.3.4"
  }
 },
 "nbformat": 4,
 "nbformat_minor": 5
}
